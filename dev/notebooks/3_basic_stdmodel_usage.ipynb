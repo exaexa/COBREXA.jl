{
 "cells": [
  {
   "cell_type": "markdown",
   "source": [
    "# Basic usage of `StandardModel`"
   ],
   "metadata": {}
  },
  {
   "cell_type": "markdown",
   "source": [
    "In this tutorial we will use `COBREXA`'s `StandardModel` and functions that\n",
    "specifically operate on it. As usual we will use the toy model of *E. coli*\n",
    "for demonstration."
   ],
   "metadata": {}
  },
  {
   "outputs": [],
   "cell_type": "code",
   "source": [
    "!isfile(\"e_coli_core.json\") &&\n",
    "    download(\"http://bigg.ucsd.edu/static/models/e_coli_core.json\", \"e_coli_core.json\")\n",
    "\n",
    "using COBREXA"
   ],
   "metadata": {},
   "execution_count": 1
  },
  {
   "cell_type": "markdown",
   "source": [
    "## Loading a model"
   ],
   "metadata": {}
  },
  {
   "outputs": [
    {
     "output_type": "execute_result",
     "data": {
      "text/plain": "\u001b[36m\u001b[39mMetabolic model of type StandardModel\n\u001b[39m\n⠀⠀⠀⠀⠀⠀⠀⠀⠀⠀⠆⠀⠀⠀⠀⠀⠀⠀⠀⠀⠀⠈⢄⠀⠀⠀⠀⠀⠀⠀⠈⠶⠴⡆⠀⠀⠀⠀⠀⠀\n⡀⢐⣀⢀⡀⡒⢒⣐⠀⣂⣂⠀⣂⣂⢂⠀⢀⠀⠀⠀⠀⠀⢀⠄⠀⠀⠀⢂⠀⢂⣀⣐⡒⡀⠆⢙⣀⠀⡀⠀\n⠀⠀⠀⠀⠀⠀⠁⠀⠀⠀⠀⠀⠀⠰⠀⠀⠀⠀⠀⠀⠀⠀⠀⠠⠀⠀⠀⠀⠀⡀⠀⠀⠀⠀⠈⢑⣀⣀⠀⠀\n⠀⠀⠃⠀⠃⠀⠀⠀⠘⠀⡇⠀⠀⠀⠀⠀⢸⠀⠀⠀⠀⠀⠀⠀⠁⠀⠀⠀⠀⠀⡜⠀⡄⣤⢠⠘⠙⢣⡇⠘\n⠀⠐⠀⡀⠀⠀⠀⠀⠀⠀⠀⠀⠀⠄⡀⠀⠀⠀⠀⠀⠀⠀⠀⠀⠐⠀⠀⠀⠀⠀⠐⠁⠉⠀⠀⠀⠀⠀⠘⠄\n⠀⢐⠀⠂⠀⠄⠠⠠⠀⠠⠆⠀⠄⠀⠄⠀⠀⠀⠀⠀⠀⠀⠀⠀⠀⠁⠀⠀⠠⠀⠠⠀⠀⢀⠀⠀⠠⠀⠀⠁\n⢀⠐⠀⠨⢀⠁⠈⣈⠀⢁⣁⠀⠀⠀⠀⠈⠀⠀⠀⠀⠀⠀⠀⠀⠀⠄⠀⠁⢀⠀⢊⠉⠀⠀⠀⢀⠀⣀⠀⢀\n⠀⠀⠀⠀⠀⠀⠀⠀⠀⠀⡈⠀⡀⠆⠀⠆⠀⡀⠀⠀⠀⠀⠀⠀⠀⠈⠀⠀⠆⠀⠀⠀⠀⠀⠀⠀⠀⠀⠆⠀\n⠀⠀⠂⠀⡂⠀⠀⠁⠀⠀⠀⠈⠁⠀⠀⠀⠄⠄⢁⠀⠀⠀⠀⠀⠀⠀⠀⠀⠀⠀⠀⠀⠀⠈⠀⠀⠀⠀⠀⠀\n⠈⠀⠁⠀⠀⢀⡀⠀⠠⠁⠁⠀⠑⠀⠐⠲⠀⠀⠀⠀⠀⠀⠀⠀⠀⠀⠂⠀⠂⠀⠀⠀⠀⠀⠀⠊⠀⠀⠀⠈\n⠄⠠⢠⠀⠰⠀⠠⠀⠤⠦⠄⠈⠀⠀⠀⠠⠀⠁⠀⡀⠀⠀⠀⠀⠀⠀⠀⠀⠀⠀⠀⠤⠄⠄⠠⠀⠀⠀⠀⠀\n⠂⠐⠀⠀⠐⡠⢐⠘⢃⠒⠂⡀⠄⠀⠀⠐⠀⠀⠀⢀⠀⠀⠀⠀⠀⠀⠀⠀⠀⠀⠀⠒⠀⢀⢀⠀⠀⣀⠀⢀\n⠈⠀⠁⠀⡀⠀⠀⠀⠈⠁⠅⠀⠁⠀⢀⠈⠄⠔⠀⠀⠀⠀⠀⠀⠀⠀⠐⠀⠀⠀⠀⠀⠀⠀⠀⠈⠀⠀⠀⠈\n⠣⠁⠀⠀⠀⠀⠀⠀⠀⠀⠁⠀⠀⠀⠈⠀⠁⠁⠀⠈⡀⠀⠀⠀⠀⠀⠐⢣⠈⠀⠀⠀⠀⠀⠀⠀⠀⠀⠀⠀\n⠀⡀⠀⠀⠀⠀⠀⠀⠀⠀⡄⠀⠀⠀⠀⠂⠄⠤⠀⠀⠈⠂⠀⠀⠀⠀⠠⠀⠊⠒⣠⠀⠀⠀⠀⠀⠀⠀⠀⠀\n\u001b[36mNumber of reactions: \u001b[39m95\n\u001b[36mNumber of metabolites: \u001b[39m72\n"
     },
     "metadata": {},
     "execution_count": 2
    }
   ],
   "cell_type": "code",
   "source": [
    "model = load_model(StandardModel, \"e_coli_core.json\") # we specifically want to load a StandardModel from the model file"
   ],
   "metadata": {},
   "execution_count": 2
  },
  {
   "cell_type": "markdown",
   "source": [
    "When using `load_model(StandardModel, file_location)` the model at\n",
    "`file_location` is first loaded into its inferred format and is then\n",
    "converted to a `StandardModel` using the generic accessor interface.\n",
    "Thus, data loss may occur. Always check your model to ensure that\n",
    "nothing important has been lost."
   ],
   "metadata": {}
  },
  {
   "cell_type": "markdown",
   "source": [
    "## Basic analysis"
   ],
   "metadata": {}
  },
  {
   "cell_type": "markdown",
   "source": [
    "As before, for optimization based analysis we need to load an optimizer. Here we\n",
    "will use [`Tulip.jl`](https://github.com/ds4dm/Tulip.jl) to solve the linear\n",
    "programs of this tutorial. Refer to the basic constraint-based analysis\n",
    "tutorial for more informaiton."
   ],
   "metadata": {}
  },
  {
   "cell_type": "markdown",
   "source": [
    "All the normal analysis functions work on `StandardModel`, due to it also\n",
    "having the same generic accessor interface as all the other model types."
   ],
   "metadata": {}
  },
  {
   "outputs": [
    {
     "output_type": "execute_result",
     "data": {
      "text/plain": "Dict{String, Float64} with 95 entries:\n  \"ACALD\"       => -9.78427\n  \"PTAr\"        => 10.0729\n  \"ALCD2x\"      => -9.78427\n  \"PDH\"         => 1.98381e-9\n  \"PYK\"         => 9.94501\n  \"CO2t\"        => 0.487021\n  \"EX_nh4_e\"    => -1.48633\n  \"MALt2_2\"     => -0.0\n  \"CS\"          => 0.294088\n  \"PGM\"         => -22.8676\n  \"TKT1\"        => -0.0487648\n  \"EX_mal__L_e\" => -0.0\n  \"ACONTa\"      => 0.294088\n  \"EX_pi_e\"     => -1.00274\n  \"GLNS\"        => 0.069699\n  \"ICL\"         => 5.34932e-11\n  \"EX_o2_e\"     => -0.0\n  \"FBA\"         => 11.7289\n  \"EX_gln__L_e\" => -0.0\n  ⋮             => ⋮"
     },
     "metadata": {},
     "execution_count": 3
    }
   ],
   "cell_type": "code",
   "source": [
    "using Tulip\n",
    "\n",
    "dict_sol = flux_balance_analysis_dict(\n",
    "    model,\n",
    "    Tulip.Optimizer;\n",
    "    modifications = [\n",
    "        change_objective(\"BIOMASS_Ecoli_core_w_GAM\"),\n",
    "        change_constraint(\"EX_glc__D_e\", -12, -12),\n",
    "        change_constraint(\"EX_o2_e\", 0, 0),\n",
    "    ],\n",
    ")"
   ],
   "metadata": {},
   "execution_count": 3
  },
  {
   "cell_type": "markdown",
   "source": [
    "This is not very exciting yet, since every other model type can also do this.\n",
    "However, deeper inspection of flux results is possible when using\n",
    "`StandardModel`."
   ],
   "metadata": {}
  },
  {
   "cell_type": "markdown",
   "source": [
    "## Inspecting the flux solution: `atom_exchange`"
   ],
   "metadata": {}
  },
  {
   "cell_type": "markdown",
   "source": [
    "It is sometimes interesting to keep track of the atoms entering and leaving\n",
    "the system through boundary reactions. This can be inspected by calling\n",
    "`atom_exchange`."
   ],
   "metadata": {}
  },
  {
   "outputs": [
    {
     "output_type": "execute_result",
     "data": {
      "text/plain": "Dict{String, Float64} with 5 entries:\n  \"C\" => -11.5998\n  \"N\" => -1.48633\n  \"P\" => -1.00274\n  \"H\" => -20.7086\n  \"O\" => -12.995"
     },
     "metadata": {},
     "execution_count": 4
    }
   ],
   "cell_type": "code",
   "source": [
    "atom_exchange(dict_sol, model) # flux of individual atoms entering and leaving the system through boundary reactions (e.g. exchange reactions) based on flux_dict"
   ],
   "metadata": {},
   "execution_count": 4
  },
  {
   "cell_type": "markdown",
   "source": [
    "## Inspecting the flux solution: `exchange_reactions`"
   ],
   "metadata": {}
  },
  {
   "cell_type": "markdown",
   "source": [
    "It is also sometimes useful to inspect the exchange reactions used by a flux\n",
    "solution. The function `exchange_reactions` fulfills this purpose."
   ],
   "metadata": {}
  },
  {
   "outputs": [
    {
     "name": "stdout",
     "output_type": "stream",
     "text": [
      "Consuming fluxes: \n",
      "EX_glc__D_e = -12.0\n",
      "EX_h2o_e = -8.285701\n",
      "EX_nh4_e = -1.48633\n",
      "EX_pi_e = -1.002744\n",
      "EX_co2_e = -0.487021\n",
      "Producing fluxes: \n",
      "EX_h_e = 36.713726\n",
      "EX_for_e = 21.172843\n",
      "EX_ac_e = 10.072906\n",
      "EX_etoh_e = 9.78427\n",
      "EX_succ_e = 0.0\n"
     ]
    }
   ],
   "cell_type": "code",
   "source": [
    "consuming, producing = exchange_reactions(dict_sol, model; top_n = 4);"
   ],
   "metadata": {},
   "execution_count": 5
  },
  {
   "cell_type": "markdown",
   "source": [
    "## Inspecting the flux solution: `metabolite_fluxes`"
   ],
   "metadata": {}
  },
  {
   "cell_type": "markdown",
   "source": [
    "Another useful flux result analysis function is `metabolite_fluxes`. This\n",
    "function keeps track of reactions consuming and producing each metabolite."
   ],
   "metadata": {}
  },
  {
   "outputs": [
    {
     "output_type": "execute_result",
     "data": {
      "text/plain": "Dict{String, Float64} with 5 entries:\n  \"PFK\"                      => -11.7289\n  \"BIOMASS_Ecoli_core_w_GAM\" => -16.3031\n  \"GLNS\"                     => -0.069699\n  \"ATPM\"                     => -8.39\n  \"ATPS4r\"                   => -6.80168"
     },
     "metadata": {},
     "execution_count": 6
    }
   ],
   "cell_type": "code",
   "source": [
    "consuming, producing = metabolite_fluxes(dict_sol, model)\n",
    "\n",
    "consuming[\"atp_c\"] # reactions consuming atp_c"
   ],
   "metadata": {},
   "execution_count": 6
  },
  {
   "cell_type": "markdown",
   "source": [
    "## Internals of `StandardModel`"
   ],
   "metadata": {}
  },
  {
   "cell_type": "markdown",
   "source": [
    "Another benefit of `StandardModel` is that it supports a richer internal\n",
    "infrastructure that can be used to manipulate internal model attributes in a\n",
    "systematic way. Specifically, the genes, reactions, and metabolites with of a\n",
    "model each have a type. This is particularly useful when modifying or even\n",
    "constructing a model from scratch."
   ],
   "metadata": {}
  },
  {
   "cell_type": "markdown",
   "source": [
    "## `Gene`s, `Reaction`s, and `Metabolite`s"
   ],
   "metadata": {}
  },
  {
   "cell_type": "markdown",
   "source": [
    "`StandardModel` is composed of ordered dictionaries of `Gene`s, `Metabolite`s\n",
    "and `Reaction`s. Ordered dictionaries are used because the order of the\n",
    "reactions and metabolites are important for constructing a stoichiometric\n",
    "matrix since the rows and columns should correspond to the order of the metabolites\n",
    "and reactions returned by calling the accessors `metabolites` and `reactions`."
   ],
   "metadata": {}
  },
  {
   "cell_type": "markdown",
   "source": [
    "Each `StandardModel` is composed of the following fields:"
   ],
   "metadata": {}
  },
  {
   "outputs": [
    {
     "output_type": "execute_result",
     "data": {
      "text/plain": "(:id, :reactions, :metabolites, :genes)"
     },
     "metadata": {},
     "execution_count": 7
    }
   ],
   "cell_type": "code",
   "source": [
    "fieldnames(StandardModel) # fields of a StandardModel"
   ],
   "metadata": {},
   "execution_count": 7
  },
  {
   "cell_type": "markdown",
   "source": [
    "The `:genes` field of a `StandardModel` contains an ordered dictionary of gene ids mapped to `Gene`s."
   ],
   "metadata": {}
  },
  {
   "outputs": [
    {
     "output_type": "execute_result",
     "data": {
      "text/plain": "OrderedCollections.OrderedDict{String, Gene} with 137 entries:\n  \"b1241\" => Gene(\"b1241\", nothing, Dict(\"original_bigg_ids\"=>[\"b1241\"]), Dict(…\n  \"b0351\" => Gene(\"b0351\", nothing, Dict(\"original_bigg_ids\"=>[\"b0351\"]), Dict(…\n  \"s0001\" => Gene(\"s0001\", nothing, Dict(\"original_bigg_ids\"=>[\"s0001\"]), Dict(…\n  \"b1849\" => Gene(\"b1849\", nothing, Dict(\"original_bigg_ids\"=>[\"b1849\"]), Dict(…\n  \"b3115\" => Gene(\"b3115\", nothing, Dict(\"original_bigg_ids\"=>[\"b3115\"]), Dict(…\n  \"b2296\" => Gene(\"b2296\", nothing, Dict(\"original_bigg_ids\"=>[\"b2296\"]), Dict(…\n  \"b1276\" => Gene(\"b1276\", nothing, Dict(\"original_bigg_ids\"=>[\"b1276\"]), Dict(…\n  \"b0118\" => Gene(\"b0118\", nothing, Dict(\"original_bigg_ids\"=>[\"b0118\"]), Dict(…\n  \"b0474\" => Gene(\"b0474\", nothing, Dict(\"original_bigg_ids\"=>[\"b0474\"]), Dict(…\n  \"b0116\" => Gene(\"b0116\", nothing, Dict(\"original_bigg_ids\"=>[\"b0116\"]), Dict(…\n  \"b0727\" => Gene(\"b0727\", nothing, Dict(\"original_bigg_ids\"=>[\"b0727\"]), Dict(…\n  \"b0726\" => Gene(\"b0726\", nothing, Dict(\"original_bigg_ids\"=>[\"b0726\"]), Dict(…\n  \"b2587\" => Gene(\"b2587\", nothing, Dict(\"original_bigg_ids\"=>[\"b2587\"]), Dict(…\n  \"b0356\" => Gene(\"b0356\", nothing, Dict(\"original_bigg_ids\"=>[\"b0356\"]), Dict(…\n  \"b1478\" => Gene(\"b1478\", nothing, Dict(\"original_bigg_ids\"=>[\"b1478\"]), Dict(…\n  \"b3734\" => Gene(\"b3734\", nothing, Dict(\"original_bigg_ids\"=>[\"b3734\"]), Dict(…\n  \"b3733\" => Gene(\"b3733\", nothing, Dict(\"original_bigg_ids\"=>[\"b3733\"]), Dict(…\n  \"b3736\" => Gene(\"b3736\", nothing, Dict(\"original_bigg_ids\"=>[\"b3736\"]), Dict(…\n  \"b3737\" => Gene(\"b3737\", nothing, Dict(\"original_bigg_ids\"=>[\"b3737\"]), Dict(…\n  ⋮       => ⋮"
     },
     "metadata": {},
     "execution_count": 8
    }
   ],
   "cell_type": "code",
   "source": [
    "model.genes # the keys of this dictionary are the same as genes(model)"
   ],
   "metadata": {},
   "execution_count": 8
  },
  {
   "cell_type": "markdown",
   "source": [
    "The `Gene` type is a struct that can be used to store information about genes\n",
    "in a `StandardModel`. Each `Gene` is composed of the following fields:"
   ],
   "metadata": {}
  },
  {
   "outputs": [
    {
     "output_type": "execute_result",
     "data": {
      "text/plain": "(:id, :name, :notes, :annotations)"
     },
     "metadata": {},
     "execution_count": 9
    }
   ],
   "cell_type": "code",
   "source": [
    "fieldnames(Gene)"
   ],
   "metadata": {},
   "execution_count": 9
  },
  {
   "cell_type": "markdown",
   "source": [
    "Use <tab> to quickly explore the fields of a struct. For example,\n",
    "Gene.<tab> will list all the fields shown above."
   ],
   "metadata": {}
  },
  {
   "cell_type": "markdown",
   "source": [
    "The keys used in the ordered dictionaries in\n",
    "`model.genes` are the ids returned using the generic accessor `genes`. `Gene`s\n",
    "have pretty printing, as demonstrated below for a random gene drawn from the\n",
    "model:"
   ],
   "metadata": {}
  },
  {
   "outputs": [
    {
     "output_type": "execute_result",
     "data": {
      "text/plain": "\u001b[36mGene.id: \u001b[39mb0727\n\u001b[36mGene.name: \u001b[39m---\n\u001b[36mGene.notes: \n\u001b[39m\toriginal_bigg_ids: [\"b0727\"]\n\u001b[36mGene.annotations: \n\u001b[39m\tsbo: [\"SBO:0000243\"]\n\u001b[39m\tuniprot: [\"P0AFG6\"]\n\u001b[39m\tecogene: [\"EG10980\"]\n\u001b[39m\tncbigene: [\"945307\"]\n\u001b[39m\tncbigi: [\"16128702\"]\n\u001b[39m\trefseq_locus_tag: [\"b0727\"]\n\u001b[39m\trefseq_name: [\"sucB\"]\n\u001b[39m\tasap: [\"ABE-0002480\"]\n\u001b[39m\trefseq_synonym: [\"JW0716\", \"ECK0715\"]\n"
     },
     "metadata": {},
     "execution_count": 10
    }
   ],
   "cell_type": "code",
   "source": [
    "random_gene_id = genes(model)[rand(1:n_genes(model))]\n",
    "model.genes[random_gene_id]"
   ],
   "metadata": {},
   "execution_count": 10
  },
  {
   "cell_type": "markdown",
   "source": [
    "The same idea holds for both metabolites (stored as `Metabolite`s) and\n",
    "reactions (stored as `Reaction`s). This is demonstrated below."
   ],
   "metadata": {}
  },
  {
   "outputs": [
    {
     "output_type": "execute_result",
     "data": {
      "text/plain": "\u001b[36mMetabolite.id: \u001b[39micit_c\n\u001b[36mMetabolite.name: \u001b[39m---\n\u001b[36mMetabolite.formula: \u001b[39mC6H5O7\n\u001b[36mMetabolite.charge: \u001b[39m-3\n\u001b[36mMetabolite.compartment: \u001b[39mc\n\u001b[36mMetabolite.notes: \n\u001b[39m\toriginal_bigg_ids: [\"icit_c\"]\n\u001b[36mMetabolite.annotations: \n\u001b[39m\tchebi: CHEBI:16087, ..., CHEBI:24884\n\u001b[39m\tmetanetx.chemical: [\"MNXM89661\"]\n\u001b[39m\tinchi_key: ODBLHEXUDAPZAU-UHFFF...\n\u001b[39m\tkegg.compound: [\"C00311\"]\n\u001b[39m\thmdb: [\"HMDB00193\"]\n\u001b[39m\tsabiork: [\"2013\"]\n\u001b[39m\tsbo: [\"SBO:0000247\"]\n\u001b[39m\tbigg.metabolite: [\"icit\"]\n\u001b[39m\tseed.compound: [\"cpd00260\"]\n"
     },
     "metadata": {},
     "execution_count": 11
    }
   ],
   "cell_type": "code",
   "source": [
    "random_metabolite_id = metabolites(model)[rand(1:n_metabolites(model))]\n",
    "model.metabolites[random_metabolite_id]"
   ],
   "metadata": {},
   "execution_count": 11
  },
  {
   "outputs": [
    {
     "output_type": "execute_result",
     "data": {
      "text/plain": "\u001b[36mReaction.id: \u001b[39mTALA\n\u001b[36mReaction.name: \u001b[39m---\n\u001b[36mReaction.metabolites: \u001b[39m1.0 g3p_c + 1.0 s7p_c ⟷  1.0 f6p_c + 1.0 e4p_c\n\u001b[36mReaction.lb: \u001b[39m-1000.0\n\u001b[36mReaction.ub: \u001b[39m1000.0\n\u001b[36mReaction.grr: \u001b[39m(b2464) or (b0008)\n\u001b[36mReaction.subsystem: \u001b[39mPentose Phosphate Pathway\n\u001b[36mReaction.notes: \n\u001b[39m\toriginal_bigg_ids: [\"TALA\"]\n\u001b[36mReaction.annotations: \n\u001b[39m\tbigg.reaction: [\"TALA\"]\n\u001b[39m\tmetanetx.reaction: [\"MNXR104715\"]\n\u001b[39m\trhea: 17056, ..., 17053\n\u001b[39m\tsbo: [\"SBO:0000176\"]\n\u001b[39m\tkegg.reaction: [\"R01827\"]\n\u001b[39m\tbiocyc: [\"META:TRANSALDOL-RXN\"]\n\u001b[39m\tec-code: [\"2.2.1.2\"]\n\u001b[36mReaction.objective_coefficient: \u001b[39m0.0\n"
     },
     "metadata": {},
     "execution_count": 12
    }
   ],
   "cell_type": "code",
   "source": [
    "random_reaction_id = reactions(model)[rand(1:n_reactions(model))]\n",
    "model.reactions[random_reaction_id]"
   ],
   "metadata": {},
   "execution_count": 12
  },
  {
   "cell_type": "markdown",
   "source": [
    "`StandardModel` can be used to build your own metabolic model or modify an\n",
    "existing one. One of the main use cases for `StandardModel` is that it can be\n",
    "used to merge multiple models or parts of multiple models together. Since the\n",
    "internals are uniform inside each `StandardModel`, attributes of other model\n",
    "types are squashed into the required format (using the generic accessors).\n",
    "This ensures that the internals of all `StandardModel`s are the same -\n",
    "allowing easy systematic evaluation."
   ],
   "metadata": {}
  },
  {
   "cell_type": "markdown",
   "source": [
    "## Checking the internals of `StandardModel`s: `annotation_index`"
   ],
   "metadata": {}
  },
  {
   "cell_type": "markdown",
   "source": [
    "Often when models are automatically reconstructed duplicate genes, reactions\n",
    "or metabolites end up in a model. `COBREXA` exports `annotation_index` to\n",
    "check for cases where the id of a struct may be different, but the annotations\n",
    "the same (possibly suggesting a duplication). `annotation_index` builds a\n",
    "dictionary mapping annotation features to the ids of whatever struct you are\n",
    "inspecting. This makes it easy to find structs that share certain annotation features."
   ],
   "metadata": {}
  },
  {
   "outputs": [
    {
     "output_type": "execute_result",
     "data": {
      "text/plain": "Dict{String, Dict{String, Set{String}}} with 10 entries:\n  \"ec-code\"           => Dict(\"3.6.3.37\"=>Set([\"ATPM\"]), \"3.6.3.42\"=>Set([\"ATPM…\n  \"sabiork\"           => Dict(\"109\"=>Set([\"PGL\"]), \"762\"=>Set([\"GLUN\"]), \"155\"=…\n  \"metanetx.reaction\" => Dict(\"MNXR104869\"=>Set([\"TKT2\"]), \"MNXR99715\"=>Set([\"E…\n  \"rhea\"              => Dict(\"27626\"=>Set([\"TKT2\"]), \"10229\"=>Set([\"ACONTa\"]),…\n  \"sbo\"               => Dict(\"SBO:0000627\"=>Set([\"EX_for_e\", \"EX_nh4_e\", \"EX_p…\n  \"seed.reaction\"     => Dict(\"rxn05297\"=>Set([\"GLUt2r\"]), \"rxn09717\"=>Set([\"PY…\n  \"kegg.reaction\"     => Dict(\"R00114\"=>Set([\"GLUSy\"]), \"R00199\"=>Set([\"PPS\"]),…\n  \"biocyc\"            => Dict(\"META:TRANS-RXN-121B\"=>Set([\"FUMt2_2\"]), \"META:PE…\n  \"reactome.reaction\" => Dict(\"R-TGU-71397\"=>Set([\"PDH\"]), \"R-XTR-70449\"=>Set([…\n  \"bigg.reaction\"     => Dict(\"ACALD\"=>Set([\"ACALD\"]), \"PTAr\"=>Set([\"PTAr\"]), \"…"
     },
     "metadata": {},
     "execution_count": 13
    }
   ],
   "cell_type": "code",
   "source": [
    "rxn_annotations = annotation_index(model.reactions)"
   ],
   "metadata": {},
   "execution_count": 13
  },
  {
   "outputs": [
    {
     "output_type": "execute_result",
     "data": {
      "text/plain": "Dict{String, Set{String}} with 141 entries:\n  \"3.6.3.37\" => Set([\"ATPM\"])\n  \"3.6.3.42\" => Set([\"ATPM\"])\n  \"3.6.3.38\" => Set([\"ATPM\"])\n  \"3.6.3.19\" => Set([\"ATPM\"])\n  \"2.3.3.1\"  => Set([\"CS\"])\n  \"1.6.1.2\"  => Set([\"NADTRHD\"])\n  \"3.6.3.35\" => Set([\"ATPM\"])\n  \"6.2.1.5\"  => Set([\"SUCOAS\"])\n  \"6.3.5.4\"  => Set([\"GLUN\"])\n  \"3.6.3.49\" => Set([\"ATPM\"])\n  \"3.6.3.51\" => Set([\"ATPM\"])\n  \"1.2.1.12\" => Set([\"GAPD\"])\n  \"3.6.3.32\" => Set([\"ATPM\"])\n  \"2.3.3.3\"  => Set([\"CS\"])\n  \"2.7.4.3\"  => Set([\"ADK1\"])\n  \"6.3.5.5\"  => Set([\"GLUN\"])\n  \"3.5.1.2\"  => Set([\"GLUN\"])\n  \"1.1.1.49\" => Set([\"G6PDH2r\"])\n  \"5.3.1.9\"  => Set([\"PGI\"])\n  ⋮          => ⋮"
     },
     "metadata": {},
     "execution_count": 14
    }
   ],
   "cell_type": "code",
   "source": [
    "rxn_annotations[\"ec-code\"]"
   ],
   "metadata": {},
   "execution_count": 14
  },
  {
   "cell_type": "markdown",
   "source": [
    "The `annotation_index` function can also be used on `Reaction`s and\n",
    "`Gene`s in the same way."
   ],
   "metadata": {}
  },
  {
   "cell_type": "markdown",
   "source": [
    "## Checking the internals of `StandardModel`s: `check_duplicate_reaction`"
   ],
   "metadata": {}
  },
  {
   "cell_type": "markdown",
   "source": [
    "Another useful function is `check_duplicate_reaction`, which checks for\n",
    "reactions that have duplicate (or similar) reaction equations."
   ],
   "metadata": {}
  },
  {
   "outputs": [
    {
     "output_type": "execute_result",
     "data": {
      "text/plain": "\u001b[36mReaction.id: \u001b[39mpgm2\n\u001b[36mReaction.name: \u001b[39m---\n\u001b[36mReaction.metabolites: \u001b[39m1.0 2pg_c ⟷  1.0 3pg_c\n\u001b[36mReaction.lb: \u001b[39m-1000.0\n\u001b[36mReaction.ub: \u001b[39m1000.0\n\u001b[36mReaction.grr: \u001b[39m---\n\u001b[36mReaction.subsystem: \u001b[39m---\n\u001b[36mReaction.notes: \u001b[90m---\n\u001b[36mReaction.annotations: \u001b[90m---\n\u001b[36mReaction.objective_coefficient: \u001b[39m0.0\n"
     },
     "metadata": {},
     "execution_count": 15
    }
   ],
   "cell_type": "code",
   "source": [
    "pgm_duplicate = Reaction()\n",
    "pgm_duplicate.id = \"pgm2\" # Phosphoglycerate mutase\n",
    "pgm_duplicate.metabolites = Dict{String,Float64}(\"3pg_c\" => 1, \"2pg_c\" => -1)\n",
    "pgm_duplicate"
   ],
   "metadata": {},
   "execution_count": 15
  },
  {
   "outputs": [
    {
     "output_type": "execute_result",
     "data": {
      "text/plain": "\"PGM\""
     },
     "metadata": {},
     "execution_count": 16
    }
   ],
   "cell_type": "code",
   "source": [
    "check_duplicate_reaction(pgm_duplicate, model.reactions; only_metabolites = false) # can also just check if only the metabolites are the same but different stoichiometry is used"
   ],
   "metadata": {},
   "execution_count": 16
  },
  {
   "cell_type": "markdown",
   "source": [
    "## Checking the internals of `StandardModel`s: `is_mass_balanced`"
   ],
   "metadata": {}
  },
  {
   "cell_type": "markdown",
   "source": [
    "Finally, `is_mass_balanced` can be used to check if a reaction is mass\n",
    "balanced based on the formulas of the reaction equation."
   ],
   "metadata": {}
  },
  {
   "outputs": [
    {
     "output_type": "execute_result",
     "data": {
      "text/plain": "(false, Dict(\"C\" => 0.0, \"P\" => 0.0, \"H\" => 2.0, \"O\" => 1.0))"
     },
     "metadata": {},
     "execution_count": 17
    }
   ],
   "cell_type": "code",
   "source": [
    "pgm_duplicate.metabolites = Dict{String,Float64}(\"3pg_c\" => 1, \"2pg_c\" => -1, \"h2o_c\" => 1) # not mass balanced now\n",
    "is_bal, extra_atoms = is_mass_balanced(pgm_duplicate, model) # extra_atoms shows which atoms are in excess/deficit"
   ],
   "metadata": {},
   "execution_count": 17
  },
  {
   "cell_type": "markdown",
   "source": [
    "---\n",
    "\n",
    "*This notebook was generated using [Literate.jl](https://github.com/fredrikekre/Literate.jl).*"
   ],
   "metadata": {}
  }
 ],
 "nbformat_minor": 3,
 "metadata": {
  "language_info": {
   "file_extension": ".jl",
   "mimetype": "application/julia",
   "name": "julia",
   "version": "1.6.0"
  },
  "kernelspec": {
   "name": "julia-1.6",
   "display_name": "Julia 1.6.0",
   "language": "julia"
  }
 },
 "nbformat": 4
}
