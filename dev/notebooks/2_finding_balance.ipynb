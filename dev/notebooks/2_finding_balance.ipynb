{
 "cells": [
  {
   "cell_type": "markdown",
   "source": [
    "# Finding balance and variability of constraint-based models"
   ],
   "metadata": {}
  },
  {
   "cell_type": "markdown",
   "source": [
    "Here we use `flux_balance_analysis`,\n",
    "`flux_variability_analysis`, and\n",
    "`parsimonious_flux_balance_analysis` of `COBREXA.jl` functions to\n",
    "analyze a toy model of *E. coli*."
   ],
   "metadata": {}
  },
  {
   "cell_type": "markdown",
   "source": [
    "If it is not already present, download the model."
   ],
   "metadata": {}
  },
  {
   "outputs": [
    {
     "output_type": "execute_result",
     "data": {
      "text/plain": "\u001b[36m\u001b[39mMetabolic model of type SBMLModel\n\u001b[39m\n⠀⠈⢀⠀⡀⠀⠀⠀⠀⡠⠂⠀⠀⠀⠀⠈⠀⠄⠀⠀⠀⠀⠀⠀⠀⠀⠀⠠⠀⠀⠀⠀⢀⠐⡀⠀⠀⠀⠀⠄\n⠀⠐⠀⠀⠀⠀⠀⠀⡠⠂⠀⠀⠀⠀⢰⠱⣀⠀⡄⢐⠀⠀⢀⠀⠀⠀⡂⠄⠔⠁⠰⠀⠠⠀⣆⠀⠄⢠⢀⠄\n⠀⠀⠀⠀⠀⠀⠀⠀⠀⠁⠠⠀⠀⠐⠀⠀⠀⠀⠀⠀⢀⠀⠀⠐⠀⠂⠀⠀⠀⠄⠀⠐⠀⢁⠄⠀⠀⠀⠀⠀\n⠀⢀⠀⠐⡈⠀⡀⠀⠂⠀⣀⠀⠑⡈⢀⠀⠀⠀⠀⠀⡀⡠⠀⡀⠰⠁⠈⠂⠁⠀⠠⠀⠀⠂⡂⠀⠂⠂⠀⠀\n⠠⠀⠐⠀⠂⠀⠀⢀⠀⠀⠀⠀⠊⠀⡐⠊⠐⠀⠀⠀⠀⠀⠐⠀⠂⠀⠀⠐⠀⠀⠀⠀⠀⠁⠃⠠⠀⠁⠐⠀\n⠀⠠⠀⡀⠄⠀⠀⠂⠀⠀⠀⠠⠀⠠⠀⠀⠄⠀⠨⠀⠀⠀⠐⠀⠀⠄⢀⠀⠀⠀⠈⠀⠀⠀⠁⠄⠀⠀⠀⠀\n⠀⢐⠐⠀⠄⠀⡂⠀⢐⠀⠀⠀⠀⠂⢀⢀⠐⠂⡀⠈⠀⠀⠀⠂⠀⠈⠀⡀⡐⠀⢄⠀⢀⠀⡆⠀⡀⣀⡀⡐\n⠀⠈⠀⠀⠀⠀⠀⠐⢂⠀⢀⠀⠈⠀⠀⠀⠀⠀⠠⠀⠀⠠⠀⠀⠀⠈⠂⠀⠀⠀⠄⠐⠐⠀⠁⠀⠀⠑⠁⠀\n⠂⠠⠀⠀⠀⠀⠀⠀⠀⢀⠀⠀⠠⠈⠀⠀⠀⠀⠀⠁⠀⠀⠠⠐⠀⠁⠈⠀⠁⢀⠀⠀⠀⠀⠀⠀⠀⠀⠌⠀\n⠀⠀⠂⢨⠀⡀⠀⠐⠁⠐⠀⠐⠊⠀⠀⠀⠀⠀⠀⠀⠀⠀⠢⠒⠈⠐⠐⠁⠂⠀⠀⠀⠄⠓⠕⠂⠃⠁⠀⠐\n⠠⠀⠨⠀⠁⠤⠄⠀⠁⡄⠀⠂⠠⠄⢈⠌⠠⠄⠀⢀⠀⠀⠀⠄⠨⠀⡤⠀⢀⠀⢀⠠⠀⠁⡔⠨⠀⠈⠄⠀\n⠀⢀⢀⣀⠀⡠⡒⢀⢀⣀⠀⢀⣀⡀⢀⠀⢀⠀⡀⠀⡀⠀⠈⣀⠀⢀⣀⠀⡀⠀⢀⠁⢀⣀⣀⡀⡠⡀⡀⣀\n⠀⠄⠀⠀⠀⠀⠀⠀⠀⠂⠁⠀⠀⠀⠀⠀⠀⣠⠀⠀⡀⠀⠀⠀⠀⠀⠀⠀⠈⠀⠀⠀⠀⠀⠀⠐⠀⠀⠀⠀\n⢀⠂⠀⠀⠂⠀⠈⠀⠐⠀⠀⠀⠁⠀⠀⠀⡀⠔⠑⠀⠀⠀⠀⠀⠀⠀⠀⠀⠀⠀⠢⠀⠀⡀⠂⠈⠀⠀⠀⠄\n⠀⠐⠀⠀⡂⠀⠂⠀⠀⠀⠒⠐⠄⠂⠐⠀⠘⡀⠀⠠⡂⠃⠀⠂⠄⠂⠀⠀⠀⠀⡀⠀⡀⠀⡂⠂⠀⠀⢀⠀\n\u001b[36mNumber of reactions: \u001b[39m95\n\u001b[36mNumber of metabolites: \u001b[39m72\n"
     },
     "metadata": {},
     "execution_count": 1
    }
   ],
   "cell_type": "code",
   "source": [
    "!isfile(\"e_coli_core.xml\") &&\n",
    "    download(\"http://bigg.ucsd.edu/static/models/e_coli_core.xml\", \"e_coli_core.xml\")\n",
    "\n",
    "using COBREXA\n",
    "\n",
    "\n",
    "model = load_model(\"e_coli_core.xml\")"
   ],
   "metadata": {},
   "execution_count": 1
  },
  {
   "cell_type": "markdown",
   "source": [
    "## Optimization solvers in `COBREXA`\n",
    "\n",
    "To actually perform any optimization based analysis we need to load an\n",
    "optimizer. Any [`JuMP.jl`-supported\n",
    "optimizers](https://jump.dev/JuMP.jl/stable/installation/#Supported-solvers)\n",
    "will work. Here, we will use [`Tulip.jl`](https://github.com/ds4dm/Tulip.jl)\n",
    "to optimize linear programs and\n",
    "[`OSQP.jl`](https://osqp.org/docs/get_started/julia.html) to optimize quadratic\n",
    "programs."
   ],
   "metadata": {}
  },
  {
   "outputs": [
    {
     "name": "stdout",
     "output_type": "stream",
     "text": [
      "    Updating registry at `~/.julia/registries/General`\n",
      "   Resolving package versions...\n",
      "  No Changes to `/builds/lcsb-biocore/COBREXA.jl/docs/Project.toml`\n",
      "  No Changes to `/builds/lcsb-biocore/COBREXA.jl/docs/Manifest.toml`\n",
      "   Resolving package versions...\n",
      "  No Changes to `/builds/lcsb-biocore/COBREXA.jl/docs/Project.toml`\n",
      "  No Changes to `/builds/lcsb-biocore/COBREXA.jl/docs/Manifest.toml`\n"
     ]
    }
   ],
   "cell_type": "code",
   "source": [
    "import Pkg\n",
    "Pkg.add(\"Tulip\")\n",
    "Pkg.add(\"OSQP\")\n",
    "\n",
    "using Tulip\n",
    "using OSQP"
   ],
   "metadata": {},
   "execution_count": 2
  },
  {
   "cell_type": "markdown",
   "source": [
    "## Flux balance analysis (FBA)\n",
    "\n",
    "Most analysis functions come in several variants that produce different types\n",
    "of output. All of them usually require a model and `JuMP.jl`-compatible\n",
    "optimizer to work in the model.\n",
    "\n",
    "In the case of FBA, you may choose from these variants (here using the\n",
    "`Tulip` optimizer):"
   ],
   "metadata": {}
  },
  {
   "outputs": [
    {
     "output_type": "execute_result",
     "data": {
      "text/plain": "95-element Vector{Float64}:\n  -0.0\n   6.00724956649032\n   7.477381918907127\n  -5.064375360152338\n   0.2234617471432185\n  -3.214895030387032\n   2.504309432010867\n  21.799492758475754\n   4.959985078874371\n   1.496983802869297\n   ⋮\n   3.375438217960911e-7\n  29.175827202685298\n   9.054357964341115e-9\n   4.817965631705414e-8\n   9.959461594581987e-9\n -21.799492758475754\n  -0.0\n  -1.4340676616267298e-9\n   3.214895030387032"
     },
     "metadata": {},
     "execution_count": 3
    }
   ],
   "cell_type": "code",
   "source": [
    "vec_soln = flux_balance_analysis_vec(model, Tulip.Optimizer)"
   ],
   "metadata": {},
   "execution_count": 3
  },
  {
   "outputs": [
    {
     "output_type": "execute_result",
     "data": {
      "text/plain": "Dict{String, Float64} with 95 entries:\n  \"R_EX_fum_e\"    => -0.0\n  \"R_ACONTb\"      => 6.00725\n  \"R_TPI\"         => 7.47738\n  \"R_SUCOAS\"      => -5.06438\n  \"R_GLNS\"        => 0.223462\n  \"R_EX_pi_e\"     => -3.2149\n  \"R_PPC\"         => 2.50431\n  \"R_O2t\"         => 21.7995\n  \"R_G6PDH2r\"     => 4.95999\n  \"R_TALA\"        => 1.49698\n  \"R_PPCK\"        => 5.88317e-8\n  \"R_EX_lac__D_e\" => 2.39394e-9\n  \"R_PGL\"         => 4.95999\n  \"R_H2Ot\"        => -29.1758\n  \"R_GLNabc\"      => -0.0\n  \"R_EX_co2_e\"    => 22.8098\n  \"R_EX_gln__L_e\" => -0.0\n  \"R_EX_nh4_e\"    => -4.76532\n  \"R_MALt2_2\"     => -0.0\n  ⋮               => ⋮"
     },
     "metadata": {},
     "execution_count": 4
    }
   ],
   "cell_type": "code",
   "source": [
    "dict_soln = flux_balance_analysis_dict(model, Tulip.Optimizer)"
   ],
   "metadata": {},
   "execution_count": 4
  },
  {
   "cell_type": "markdown",
   "source": [
    "## Modifications"
   ],
   "metadata": {}
  },
  {
   "cell_type": "markdown",
   "source": [
    "Often it is desirable to add a slight modififaction to the problem before\n",
    "performing analysis, to see e.g. differences of the model behavior caused by\n",
    "the change introduced.\n",
    "\n",
    "`COBREXA.jl` supports several modifications by default, which include\n",
    "changing objective sense, optimizer attributes, flux constraints,\n",
    "optimization objective, reaction and gene knockouts, and others."
   ],
   "metadata": {}
  },
  {
   "outputs": [
    {
     "output_type": "execute_result",
     "data": {
      "text/plain": "Dict{String, Float64} with 95 entries:\n  \"R_EX_fum_e\"    => -0.0\n  \"R_ACONTb\"      => 7.03277\n  \"R_TPI\"         => 8.90908\n  \"R_SUCOAS\"      => -5.8921\n  \"R_GLNS\"        => 0.270339\n  \"R_EX_pi_e\"     => -3.88931\n  \"R_PPC\"         => 3.02966\n  \"R_O2t\"         => 25.7859\n  \"R_G6PDH2r\"     => 6.11782\n  \"R_TALA\"        => 1.85013\n  \"R_PPCK\"        => 5.26409e-10\n  \"R_EX_lac__D_e\" => 4.37341e-12\n  \"R_PGL\"         => 6.11782\n  \"R_H2Ot\"        => -34.7096\n  \"R_GLNabc\"      => -0.0\n  \"R_EX_co2_e\"    => 27.0082\n  \"R_EX_gln__L_e\" => -0.0\n  \"R_EX_nh4_e\"    => -5.76498\n  \"R_MALt2_2\"     => -0.0\n  ⋮               => ⋮"
     },
     "metadata": {},
     "execution_count": 5
    }
   ],
   "cell_type": "code",
   "source": [
    "dict_soln = flux_balance_analysis_dict(\n",
    "    model,\n",
    "    OSQP.Optimizer;\n",
    "    modifications = [ # modifications are applied in order\n",
    "        # this changes the objective to maximize the biomass production\n",
    "        change_objective(\"R_BIOMASS_Ecoli_core_w_GAM\"),\n",
    "\n",
    "        # this fixes a specific rate of the glucose exchange\n",
    "        change_constraint(\"R_EX_glc__D_e\", -12, -12),\n",
    "\n",
    "        # this knocks out two genes, i.e. constrains their associated reactions to zero.\n",
    "        knockout([\"b0978\", \"b0734\"]), ## the gene IDs are cytochrome oxidase (CYTBD)\n",
    "\n",
    "        # ignore the optimizer specified above and change it to Tulip\n",
    "        change_optimizer(Tulip.Optimizer),\n",
    "\n",
    "        # set a custom attribute of the Tulip optimizer (see Tulip docs for more possibilities)\n",
    "        change_optimizer_attribute(\"IPM_IterationsLimit\", 110),\n",
    "\n",
    "        # explicitly tell the optimizer to maximize the new objective\n",
    "        change_sense(MAX_SENSE),\n",
    "    ],\n",
    ")"
   ],
   "metadata": {},
   "execution_count": 5
  },
  {
   "cell_type": "markdown",
   "source": [
    "## Flux variability analysis (FVA)"
   ],
   "metadata": {}
  },
  {
   "cell_type": "markdown",
   "source": [
    "The default FVA in `flux_variability_analysis` returns maximized and\n",
    "minimized reaction fluxes in a matrix. Here we use the dictionary variant in\n",
    "flux_variability_analysis_dict, to show how to easily access specific fluxes\n",
    "from its results."
   ],
   "metadata": {}
  },
  {
   "outputs": [
    {
     "output_type": "execute_result",
     "data": {
      "text/plain": "(Dict(\"R_EX_fum_e\" => Dict(\"R_EX_fum_e\" => -0.0, \"R_ACONTb\" => 8.387567703061316, \"R_TPI\" => 7.532255418870419, \"R_SUCOAS\" => -2.1456715700928, \"R_GLNS\" => 11.72801152935013, \"R_EX_pi_e\" => -0.781841023618242, \"R_PPC\" => 12.709428540552382, \"R_O2t\" => 30.207306741855934, \"R_G6PDH2r\" => 6.3963713000040885, \"R_TALA\" => 2.094101813498349…), \"R_ACONTb\" => Dict(\"R_EX_fum_e\" => -0.0, \"R_ACONTb\" => 0.2260795234341539, \"R_TPI\" => 0.27629819544371975, \"R_SUCOAS\" => -2.8375942206305713e-12, \"R_GLNS\" => 9.663346629147215, \"R_EX_pi_e\" => -0.7708580431967099, \"R_PPC\" => 13.616949989618535, \"R_O2t\" => 30.324546231187313, \"R_G6PDH2r\" => 28.16720077460885, \"R_TALA\" => 9.351579088425249…), \"R_TPI\" => Dict(\"R_EX_fum_e\" => -0.0, \"R_ACONTb\" => 0.22607952365224862, \"R_TPI\" => -7.023645995325829, \"R_SUCOAS\" => -5.989684359376451e-11, \"R_GLNS\" => 14.308313357789281, \"R_EX_pi_e\" => -0.7708580432585497, \"R_PPC\" => 18.802685220533647, \"R_O2t\" => 50.4222650020313, \"R_G6PDH2r\" => 50.44563081566434, \"R_TALA\" => 16.777722435440715…), \"R_SUCOAS\" => Dict(\"R_EX_fum_e\" => -0.0, \"R_ACONTb\" => 17.041289795789567, \"R_TPI\" => 9.791564276526747, \"R_SUCOAS\" => -16.815210272246723, \"R_GLNS\" => 19.47631848364111, \"R_EX_pi_e\" => -0.770858043196644, \"R_PPC\" => 25.4355271739484, \"R_O2t\" => 48.49828617064436, \"R_G6PDH2r\" => 2.4419522059618934e-10, \"R_TALA\" => -0.03748783636298141…), \"R_GLNS\" => Dict(\"R_EX_fum_e\" => -0.0, \"R_ACONTb\" => 8.061973806526826, \"R_TPI\" => 7.523620762504264, \"R_SUCOAS\" => -2.0664872403347907, \"R_GLNS\" => 0.0535809937339624, \"R_EX_pi_e\" => -0.7708580431966973, \"R_PPC\" => 14.947771300763096, \"R_O2t\" => 29.036876963512825, \"R_G6PDH2r\" => 6.399244385839639, \"R_TALA\" => 2.0955936255021808…), \"R_EX_pi_e\" => Dict(\"R_EX_fum_e\" => -0.0, \"R_ACONTb\" => 8.388812649215613, \"R_TPI\" => 7.533309613876824, \"R_SUCOAS\" => -2.1466235942183447, \"R_GLNS\" => 11.688210901810553, \"R_EX_pi_e\" => -0.7865095839138668, \"R_PPC\" => 12.645801274331156, \"R_O2t\" => 30.188166942395195, \"R_G6PDH2r\" => 6.388553068133392, \"R_TALA\" => 2.09126869800525…), \"R_PPC\" => Dict(\"R_EX_fum_e\" => -0.0, \"R_ACONTb\" => 9.14053048210921, \"R_TPI\" => 7.815024382280643, \"R_SUCOAS\" => -1.4014273460315068, \"R_GLNS\" => 15.195578469146987, \"R_EX_pi_e\" => -0.7818087293451119, \"R_PPC\" => 8.00091769193397e-10, \"R_O2t\" => 31.204423146044512, \"R_G6PDH2r\" => 5.543458812160874, \"R_TALA\" => 1.809799221396707…), \"R_O2t\" => Dict(\"R_EX_fum_e\" => -0.0, \"R_ACONTb\" => 0.23347557615742534, \"R_TPI\" => 9.783623631549453, \"R_SUCOAS\" => -0.001629549873797233, \"R_GLNS\" => 0.06270823060221115, \"R_EX_pi_e\" => -0.7716851675773635, \"R_PPC\" => 0.6737424037490961, \"R_O2t\" => 2.0683004221209886e-10, \"R_G6PDH2r\" => 0.01992471198008615, \"R_TALA\" => -0.03088648992748138…), \"R_G6PDH2r\" => Dict(\"R_EX_fum_e\" => -0.0, \"R_ACONTb\" => 10.251784177340285, \"R_TPI\" => 9.659615645294526, \"R_SUCOAS\" => -3.404492835948122, \"R_GLNS\" => 11.754546921095894, \"R_EX_pi_e\" => -0.7818183172437788, \"R_PPC\" => 12.84942993145147, \"R_O2t\" => 29.407516338347314, \"R_G6PDH2r\" => 1.2044971310956056e-13, \"R_TALA\" => -0.038020848928905275…), \"R_TALA\" => Dict(\"R_EX_fum_e\" => -0.0, \"R_ACONTb\" => 10.35557912119309, \"R_TPI\" => 9.65911239712571, \"R_SUCOAS\" => -4.306503172360712, \"R_GLNS\" => 11.818606548613598, \"R_EX_pi_e\" => -0.786509583913964, \"R_PPC\" => 13.469379343614088, \"R_O2t\" => 29.691047792422857, \"R_G6PDH2r\" => 4.749673144081168e-13, \"R_TALA\" => -0.03824899137239327…)…), Dict(\"R_EX_fum_e\" => Dict(\"R_EX_fum_e\" => -0.0, \"R_ACONTb\" => 8.387567703061316, \"R_TPI\" => 7.532255418870419, \"R_SUCOAS\" => -2.1456715700928, \"R_GLNS\" => 11.72801152935013, \"R_EX_pi_e\" => -0.781841023618242, \"R_PPC\" => 12.709428540552382, \"R_O2t\" => 30.207306741855934, \"R_G6PDH2r\" => 6.3963713000040885, \"R_TALA\" => 2.094101813498349…), \"R_ACONTb\" => Dict(\"R_EX_fum_e\" => -0.0, \"R_ACONTb\" => 17.041289795007938, \"R_TPI\" => 9.791564276433519, \"R_SUCOAS\" => -5.688082121108331, \"R_GLNS\" => 19.780355774841556, \"R_EX_pi_e\" => -0.7708580433275182, \"R_PPC\" => 16.936579264014647, \"R_O2t\" => 48.30857236846392, \"R_G6PDH2r\" => 3.833409490124206e-10, \"R_TALA\" => -0.03748783632297794…), \"R_TPI\" => Dict(\"R_EX_fum_e\" => -0.0, \"R_ACONTb\" => 10.554697110858058, \"R_TPI\" => 9.79156427517227, \"R_SUCOAS\" => -4.36079829072734, \"R_GLNS\" => 12.195418956692743, \"R_EX_pi_e\" => -0.7708580443890825, \"R_PPC\" => 13.848078463930056, \"R_O2t\" => 30.26371446753615, \"R_G6PDH2r\" => 1.996871968753506e-9, \"R_TALA\" => -0.03748783583683612…), \"R_SUCOAS\" => Dict(\"R_EX_fum_e\" => -0.0, \"R_ACONTb\" => 8.057908581115928, \"R_TPI\" => 7.332654280738366, \"R_SUCOAS\" => -1.2187147897617456e-10, \"R_GLNS\" => 11.572637789614943, \"R_EX_pi_e\" => -0.781840987603548, \"R_PPC\" => 11.178325328275292, \"R_O2t\" => 29.841134825372734, \"R_G6PDH2r\" => 6.989508449861914, \"R_TALA\" => 2.2918141985356772…), \"R_GLNS\" => Dict(\"R_EX_fum_e\" => -0.0, \"R_ACONTb\" => 17.04128979542336, \"R_TPI\" => 9.791564276164623, \"R_SUCOAS\" => -16.769668728120884, \"R_GLNS\" => 127.20986479797551, \"R_EX_pi_e\" => -0.7708580431963201, \"R_PPC\" => 0.55493438797057, \"R_O2t\" => 50.84039512729372, \"R_G6PDH2r\" => 1.3335673812250126e-9, \"R_TALA\" => -0.037487835999915696…), \"R_EX_pi_e\" => Dict(\"R_EX_fum_e\" => -0.0, \"R_ACONTb\" => 8.477625183335908, \"R_TPI\" => 7.508226727537374, \"R_SUCOAS\" => -2.1740673997402995, \"R_GLNS\" => 11.955467607327458, \"R_EX_pi_e\" => -0.7708580431986837, \"R_PPC\" => 12.809131647158342, \"R_O2t\" => 30.488106628893533, \"R_G6PDH2r\" => 6.466262473804337, \"R_TALA\" => 2.117932988156977…), \"R_PPC\" => Dict(\"R_EX_fum_e\" => -0.0, \"R_ACONTb\" => 17.041289790111023, \"R_TPI\" => 9.791564273069904, \"R_SUCOAS\" => -16.815210261955922, \"R_GLNS\" => 0.05358099899733933, \"R_EX_pi_e\" => -0.7708580432275103, \"R_PPC\" => 127.7567596864386, \"R_O2t\" => 50.84039511913468, \"R_G6PDH2r\" => 1.0228880908192078e-8, \"R_TALA\" => -0.03748783303680075…), \"R_O2t\" => Dict(\"R_EX_fum_e\" => -0.0, \"R_ACONTb\" => 13.488565849967824, \"R_TPI\" => 6.238840330806542, \"R_SUCOAS\" => -3.772617647963326, \"R_GLNS\" => 20.283358516037556, \"R_EX_pi_e\" => -0.7708580432002806, \"R_PPC\" => 17.883676633529095, \"R_O2t\" => 50.84039512688941, \"R_G6PDH2r\" => 10.658171837390052, \"R_TALA\" => 3.515236109352078…), \"R_G6PDH2r\" => Dict(\"R_EX_fum_e\" => -0.0, \"R_ACONTb\" => 0.2260795280734479, \"R_TPI\" => -7.023645980797208, \"R_SUCOAS\" => -1.2263907749526956e-9, \"R_GLNS\" => 14.973603529019034, \"R_EX_pi_e\" => -0.7708580432619148, \"R_PPC\" => 18.825207611043435, \"R_O2t\" => 50.530923759776464, \"R_G6PDH2r\" => 50.445630770442904, \"R_TALA\" => 16.7777224203659…), \"R_TALA\" => Dict(\"R_EX_fum_e\" => -0.0, \"R_ACONTb\" => 0.22607952440356835, \"R_TPI\" => -7.023645988176, \"R_SUCOAS\" => -2.8144007763514797e-10, \"R_GLNS\" => 14.338969784762646, \"R_EX_pi_e\" => -0.7708580432375506, \"R_PPC\" => 18.868338300612862, \"R_O2t\" => 50.4236100549293, \"R_G6PDH2r\" => 50.445630793530995, \"R_TALA\" => 16.777722428063736…)…))"
     },
     "metadata": {},
     "execution_count": 6
    }
   ],
   "cell_type": "code",
   "source": [
    "fva_mins, fva_maxs = flux_variability_analysis_dict(\n",
    "    model,\n",
    "    Tulip.Optimizer;\n",
    "    bounds = objective_bounds(0.99), # the objective function is allowed to vary by ~1% from the FBA optimum\n",
    "    modifications = [\n",
    "        change_optimizer_attribute(\"IPM_IterationsLimit\", 500),\n",
    "        change_constraint(\"R_EX_glc__D_e\", -10, -10),\n",
    "        change_constraint(\"R_EX_o2_e\", 0.0, 0.0),\n",
    "    ],\n",
    ")"
   ],
   "metadata": {},
   "execution_count": 6
  },
  {
   "outputs": [
    {
     "output_type": "execute_result",
     "data": {
      "text/plain": "16.815210271774536"
     },
     "metadata": {},
     "execution_count": 7
    }
   ],
   "cell_type": "code",
   "source": [
    "fva_maxs[\"R_EX_ac_e\"][\"R_EX_ac_e\"] # get the maximal acetate exchange flux"
   ],
   "metadata": {},
   "execution_count": 7
  },
  {
   "cell_type": "markdown",
   "source": [
    "## Parsimonious flux balance analysis (pFBA)"
   ],
   "metadata": {}
  },
  {
   "cell_type": "markdown",
   "source": [
    "Parsimonious flux balance analysis (here in\n",
    "`parsimonious_flux_balance_analysis` finds a unique flux solution\n",
    "that minimizes the squared sum of fluxes of the system subject, while\n",
    "maintaining the same objective value as the flux balance analysis solution.\n",
    "Since we are optimizing a quadratic objective, we also need to switch to a\n",
    "quadratic optimizer. In this case, OSQP will work. We demonstrate it on the\n",
    "dictionary-returning variant of pFBA,\n",
    "`parsimonious_flux_balance_analysis_dict`:"
   ],
   "metadata": {}
  },
  {
   "outputs": [
    {
     "output_type": "execute_result",
     "data": {
      "text/plain": "Dict{String, Float64} with 95 entries:\n  \"R_EX_fum_e\"    => -0.0054306\n  \"R_ACONTb\"      => 6.51108\n  \"R_TPI\"         => 8.90211\n  \"R_SUCOAS\"      => -5.41568\n  \"R_GLNS\"        => 0.250914\n  \"R_EX_pi_e\"     => -3.85013\n  \"R_PPC\"         => 2.94799\n  \"R_O2t\"         => 25.1823\n  \"R_G6PDH2r\"     => 6.27109\n  \"R_TALA\"        => 1.90314\n  \"R_PPCK\"        => -0.00186526\n  \"R_EX_lac__D_e\" => -0.00399055\n  \"R_PGL\"         => 6.27111\n  \"R_H2Ot\"        => -33.9472\n  \"R_GLNabc\"      => 0.0126618\n  \"R_EX_co2_e\"    => 26.4219\n  \"R_EX_gln__L_e\" => -0.0126492\n  \"R_EX_nh4_e\"    => -5.67116\n  \"R_MALt2_2\"     => 0.00493596\n  ⋮               => ⋮"
     },
     "metadata": {},
     "execution_count": 8
    }
   ],
   "cell_type": "code",
   "source": [
    "dict_soln = parsimonious_flux_balance_analysis_dict(\n",
    "    model,\n",
    "    OSQP.Optimizer;\n",
    "    modifications = [\n",
    "        change_optimizer_attribute(\"verbose\", false), # silence the optimizer (OSQP is very verbose by default)\n",
    "        change_constraint(\"R_EX_glc__D_e\", -12, -12),\n",
    "    ],\n",
    ")"
   ],
   "metadata": {},
   "execution_count": 8
  },
  {
   "cell_type": "markdown",
   "source": [
    "The function also has the expectable second variant that returns a vector of\n",
    "solutions, in `parsimonious_flux_balance_analysis_vec`. Here, we\n",
    "utilize it to show how to use different optimizers for finding the optimum\n",
    "and for solving the quadratic problem. That may be preferable if the\n",
    "optimizer qualities differ for the differing tasks. pFBA allows you to\n",
    "specify `qp_modifications` that are applied after the original optimum is\n",
    "found, and before the quadratic part of the problem solving begins."
   ],
   "metadata": {}
  },
  {
   "outputs": [
    {
     "output_type": "execute_result",
     "data": {
      "text/plain": "95-element Vector{Float64}:\n  -0.006231402533094581\n   6.847122967587614\n   8.914435875871503\n  -5.738183656745528\n   0.25363156710733\n  -3.8887743417980833\n   2.977310372502161\n  25.64208341306474\n   6.1991009754149715\n   1.877264043236841\n   ⋮\n  -0.0002197051126034427\n  34.49592944330335\n  -0.0020752886988600542\n  -0.0014018715428246171\n  -0.002009900868927077\n -25.642083259145206\n   0.0161569956400718\n   0.004729690379188246\n   3.8887743479784547"
     },
     "metadata": {},
     "execution_count": 9
    }
   ],
   "cell_type": "code",
   "source": [
    "vec_soln = parsimonious_flux_balance_analysis_vec(\n",
    "    model,\n",
    "    Tulip.Optimizer; # start with Tulip\n",
    "    modifications = [\n",
    "        change_constraint(\"R_EX_glc__D_e\", -12, -12),\n",
    "        change_optimizer_attribute(\"IPM_IterationsLimit\", 500), # we may change Tulip-specific attributes here\n",
    "    ],\n",
    "    qp_modifications = [\n",
    "        change_optimizer(OSQP.Optimizer), # now switch to OSQP (Tulip wouldn't be able to finish the computation)\n",
    "        change_optimizer_attribute(\"verbose\", false), # and silence it.\n",
    "    ],\n",
    ")"
   ],
   "metadata": {},
   "execution_count": 9
  },
  {
   "cell_type": "markdown",
   "source": [
    "---\n",
    "\n",
    "*This notebook was generated using [Literate.jl](https://github.com/fredrikekre/Literate.jl).*"
   ],
   "metadata": {}
  }
 ],
 "nbformat_minor": 3,
 "metadata": {
  "language_info": {
   "file_extension": ".jl",
   "mimetype": "application/julia",
   "name": "julia",
   "version": "1.6.0"
  },
  "kernelspec": {
   "name": "julia-1.6",
   "display_name": "Julia 1.6.0",
   "language": "julia"
  }
 },
 "nbformat": 4
}
