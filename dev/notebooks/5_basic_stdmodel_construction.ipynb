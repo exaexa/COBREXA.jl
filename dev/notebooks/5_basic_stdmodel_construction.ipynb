{
 "cells": [
  {
   "cell_type": "markdown",
   "source": [
    "# Model construction and modification"
   ],
   "metadata": {}
  },
  {
   "cell_type": "markdown",
   "source": [
    "`COBREXA` can load models stored in `.mat`, `.json`, and `.xml` formats; and convert\n",
    "these into `StandardModel`s. However, it is also possible to construct models\n",
    "from scratch, and modify existing models. This will be demonstrated\n",
    "here."
   ],
   "metadata": {}
  },
  {
   "cell_type": "markdown",
   "source": [
    "## Model construction"
   ],
   "metadata": {}
  },
  {
   "cell_type": "markdown",
   "source": [
    "In `COBREXA`, model construction is primarily supported through `StandardModel`s.\n",
    "To begin, create an empty `StandardModel`."
   ],
   "metadata": {}
  },
  {
   "outputs": [
    {
     "output_type": "execute_result",
     "data": {
      "text/plain": "\u001b[36m\u001b[39mMetabolic model of type StandardModel\n\u001b[39m\n\n\u001b[36mNumber of reactions: \u001b[39m0\n\u001b[36mNumber of metabolites: \u001b[39m0\n"
     },
     "metadata": {},
     "execution_count": 1
    }
   ],
   "cell_type": "code",
   "source": [
    "using COBREXA\n",
    "\n",
    "model = StandardModel(\"FirstModel\") # assign model id = \"FirstModel\""
   ],
   "metadata": {},
   "execution_count": 1
  },
  {
   "cell_type": "markdown",
   "source": [
    "Next, genes, metabolites and reactions need to be added to the model."
   ],
   "metadata": {}
  },
  {
   "cell_type": "markdown",
   "source": [
    "### Add genes to the model"
   ],
   "metadata": {}
  },
  {
   "outputs": [],
   "cell_type": "code",
   "source": [
    "gene_list = [Gene(string(\"g\", num)) for num = 1:8]\n",
    "\n",
    "\n",
    "add!(model, gene_list)"
   ],
   "metadata": {},
   "execution_count": 2
  },
  {
   "cell_type": "markdown",
   "source": [
    "### Add metabolites to the model"
   ],
   "metadata": {}
  },
  {
   "outputs": [],
   "cell_type": "code",
   "source": [
    "metabolite_list = [Metabolite(string(\"m\", num)) for num = 1:4]\n",
    "\n",
    "metabolite_list[1].formula = \"C6H12O6\" # can edit metabolites, etc. directly\n",
    "\n",
    "add!(model, metabolite_list)"
   ],
   "metadata": {},
   "execution_count": 3
  },
  {
   "cell_type": "markdown",
   "source": [
    "### Add reactions to the model"
   ],
   "metadata": {}
  },
  {
   "cell_type": "markdown",
   "source": [
    "There are two ways to create and add reactions to a model.\n",
    "These are using functions, or macros."
   ],
   "metadata": {}
  },
  {
   "outputs": [
    {
     "output_type": "execute_result",
     "data": {
      "text/plain": "3-element Vector{Vector{String}}:\n [\"g5\"]\n [\"g6\", \"g7\"]\n [\"g8\"]"
     },
     "metadata": {},
     "execution_count": 4
    }
   ],
   "cell_type": "code",
   "source": [
    "r_m1 = Reaction(\"EX_m1\", Dict(\"m1\" => -1.0), :bidirectional) # exchange reaction: m1 <-> (is the same as m1 ⟷ nothing)\n",
    "r1 = Reaction(\"r1\", Dict(\"m1\" => -1.0, \"m2\" => 1.0), :forward)\n",
    "r1.grr = [[\"g1\", \"g2\"], [\"g3\"]] # add some gene reaction rules\n",
    "r2 = Reaction(\"r2\", Dict(\"m2\" => -1.0, \"m1\" => 1.0), :backward)\n",
    "r3 = Reaction(\"r3\", Dict(\"m2\" => -1.0, \"m3\" => 1.0), :bidirectional)\n",
    "\n",
    "add!(model, [r1, r2, r3, r_m1]) # function approach\n",
    "\n",
    "m1 = metabolite_list[1]\n",
    "m2 = metabolite_list[2]\n",
    "m3 = metabolite_list[3]\n",
    "m4 = metabolite_list[4]\n",
    "\n",
    "@add_reactions! model begin # macro approach\n",
    "    \"r4\", m2 ⟶ m4, 0, 1000\n",
    "    \"r_m3\", m3 ⟷ nothing, -1000, 1000\n",
    "    \"r_m4\", m4 ⟶ nothing\n",
    "    \"r5\", m4 ⟶ m2\n",
    "end\n",
    "\n",
    "model.reactions[\"r4\"].grr = [[\"g5\"], [\"g6\", \"g7\"], [\"g8\"]]"
   ],
   "metadata": {},
   "execution_count": 4
  },
  {
   "cell_type": "markdown",
   "source": [
    "The constructed model can now be inspected."
   ],
   "metadata": {}
  },
  {
   "outputs": [
    {
     "output_type": "execute_result",
     "data": {
      "text/plain": "\u001b[36m\u001b[39mMetabolic model of type StandardModel\n\u001b[39m\n -1.0   1.0    ⋅   -1.0    ⋅     ⋅     ⋅     ⋅ \n  1.0  -1.0  -1.0    ⋅   -1.0    ⋅     ⋅    1.0\n   ⋅     ⋅    1.0    ⋅     ⋅   -1.0    ⋅     ⋅ \n   ⋅     ⋅     ⋅     ⋅    1.0    ⋅   -1.0  -1.0\n\u001b[36mNumber of reactions: \u001b[39m8\n\u001b[36mNumber of metabolites: \u001b[39m4\n"
     },
     "metadata": {},
     "execution_count": 5
    }
   ],
   "cell_type": "code",
   "source": [
    "model"
   ],
   "metadata": {},
   "execution_count": 5
  },
  {
   "cell_type": "markdown",
   "source": [
    "## Modifying existing models"
   ],
   "metadata": {}
  },
  {
   "cell_type": "markdown",
   "source": [
    "It is also possible to modify a model by deleting certain genes.\n",
    "This is simply achieved by calling `rm!`."
   ],
   "metadata": {}
  },
  {
   "outputs": [
    {
     "output_type": "execute_result",
     "data": {
      "text/plain": "\u001b[36m\u001b[39mMetabolic model of type StandardModel\n\u001b[39m\n -1.0   1.0    ⋅   -1.0    ⋅     ⋅     ⋅     ⋅ \n  1.0  -1.0  -1.0    ⋅   -1.0    ⋅     ⋅    1.0\n   ⋅     ⋅    1.0    ⋅     ⋅   -1.0    ⋅     ⋅ \n   ⋅     ⋅     ⋅     ⋅    1.0    ⋅   -1.0  -1.0\n\u001b[36mNumber of reactions: \u001b[39m8\n\u001b[36mNumber of metabolites: \u001b[39m4\n"
     },
     "metadata": {},
     "execution_count": 6
    }
   ],
   "cell_type": "code",
   "source": [
    "rm!(Gene, model, [\"g1\", \"g2\"]; knockout_reactions = false)\n",
    "model"
   ],
   "metadata": {},
   "execution_count": 6
  },
  {
   "cell_type": "markdown",
   "source": [
    "---\n",
    "\n",
    "*This notebook was generated using [Literate.jl](https://github.com/fredrikekre/Literate.jl).*"
   ],
   "metadata": {}
  }
 ],
 "nbformat_minor": 3,
 "metadata": {
  "language_info": {
   "file_extension": ".jl",
   "mimetype": "application/julia",
   "name": "julia",
   "version": "1.6.0"
  },
  "kernelspec": {
   "name": "julia-1.6",
   "display_name": "Julia 1.6.0",
   "language": "julia"
  }
 },
 "nbformat": 4
}
